{
 "cells": [
  {
   "cell_type": "code",
   "execution_count": 5,
   "metadata": {},
   "outputs": [],
   "source": [
    "dtable = [1, 1, 2, 3, 5, 1, 6, 0, \n",
    "          5, 5, 3, 1, 4, 5, 2, 0, \n",
    "          4, 4, 1, 5, 6, 4, 3, 0, \n",
    "          6, 6, 5, 4, 2, 6, 1, 0, \n",
    "          2, 2, 4, 6, 3, 2, 5, 0, \n",
    "          3, 3, 6, 2, 1, 3, 4, 0]"
   ]
  },
  {
   "cell_type": "code",
   "execution_count": 321,
   "metadata": {},
   "outputs": [],
   "source": [
    "class Fighter:\n",
    "    def __init__(self, name, hp, armor, moves):\n",
    "        self.name = name\n",
    "        self.hp = hp\n",
    "        self.armor = armor\n",
    "        self.moves = moves\n",
    "        \n",
    "class Move:\n",
    "    def __init__(self, movename, dice_req, rolls, en_cost=0, atk_val=0, en_gain=0, max_en=999):\n",
    "        self.movename = movename\n",
    "        self.dice_req = dice_req\n",
    "        self.en_cost = en_cost\n",
    "        self.rolls = rolls\n",
    "        self.atk_val = atk_val\n",
    "        self.en_gain = en_gain\n",
    "        self.max_en = max_en\n",
    "        \n"
   ]
  },
  {
   "cell_type": "code",
   "execution_count": 335,
   "metadata": {},
   "outputs": [],
   "source": [
    "m_charge = Move(movename = 'Charge', dice_req = [0,1,2,3,4,5,6], rolls=1, en_gain=1)\n",
    "\n",
    "f_rock = Fighter(name='Rock', hp=8, armor=1, moves=[\n",
    "    m_charge,\n",
    "    Move(movename='Atk1', dice_req = [2, 4], en_cost = 1, atk_val = 2, rolls = 2),\n",
    "    Move(movename='Atk2', dice_req = [3, 5], en_cost = 3, atk_val = 3, rolls = 3)\n",
    "])\n",
    "\n",
    "f_paper = Fighter(name='Paper', hp=9, armor=0, moves=[\n",
    "    m_charge,\n",
    "    Move(movename='ChargePlus', dice_req = [5], rolls = 4, en_gain = 2),\n",
    "    Move(movename='Atk', dice_req = [1, 4], en_cost = 5, atk_val = 5, rolls = 3)\n",
    "])\n",
    "\n",
    "f_scissors = Fighter(name='Scissors', hp=7, armor=1, moves=[\n",
    "    m_charge,\n",
    "    Move(movename='Bite', dice_req = [1,2,3,4], atk_val = 1, rolls = 2),\n",
    "    Move(movename='Snip', dice_req = [3,4], en_cost = 3, atk_val = 3, rolls = 3)\n",
    "])\n"
   ]
  },
  {
   "cell_type": "code",
   "execution_count": 336,
   "metadata": {},
   "outputs": [],
   "source": [
    "import numpy as np\n",
    "from numpy.random import choice"
   ]
  },
  {
   "cell_type": "code",
   "execution_count": 337,
   "metadata": {},
   "outputs": [],
   "source": [
    "class Player:\n",
    "    def __init__(self, player_no, hp, en, current_fighter):\n",
    "        self.player_no = player_no\n",
    "        self.hp = hp\n",
    "        self.en = en\n",
    "        self.current_fighter = current_fighter\n",
    "    \n",
    "    def modify_hp(self, delta):\n",
    "        return Player(player_no=self.player_no, hp=self.hp+delta, en=self.en, current_fighter=self.current_fighter)\n",
    "    \n",
    "    def modify_en(self, delta):\n",
    "        return Player(player_no=self.player_no, hp=self.hp, en=self.en+delta, current_fighter=self.current_fighter)\n",
    "    \n",
    "    def __str__(self):\n",
    "        return 'Player ' + str(self.player_no) + ' -  Fighter: ' + self.current_fighter.name + ' - HP: ' + str(self.hp) + ' - EN: ' + str(self.en)\n",
    "        \n",
    "class GameState:\n",
    "    def __init__(self, whose_turn, players, dice_loc, \n",
    "                 parent_state = None, child_states = None, child_states_computed = False, value=None):\n",
    "        self.whose_turn = whose_turn\n",
    "        self.players = players\n",
    "        self.dice_loc = dice_loc\n",
    "        self.parent_state = parent_state\n",
    "        self.value = value\n",
    "        self.child_states = child_states\n",
    "        self.child_states_computed = child_states_computed\n",
    "    \n",
    "    def get_dice(self):\n",
    "        return dtable[self.dice_loc]\n",
    "        \n",
    "    def new_game(f1, f2, dice_loc):\n",
    "        p1 = Player(player_no=1, hp=f1.hp, en=0, current_fighter=f1)\n",
    "        p2 = Player(player_no=2, hp=f2.hp, en=0, current_fighter=f2)\n",
    "        return GameState(whose_turn=1, players = {1:p1, 2:p2}, dice_loc=dice_loc)\n",
    "    \n",
    "    def compute_child_states(self):\n",
    "        if self.child_states_computed:\n",
    "            return\n",
    "        dice = self.get_dice()\n",
    "        nturn = 3-self.whose_turn\n",
    "        cp = self.players[self.whose_turn]\n",
    "        np = self.players[nturn]\n",
    "        self.child_states = []\n",
    "        if cp.hp <= 0:\n",
    "            return\n",
    "        cf = cp.current_fighter\n",
    "        nf = np.current_fighter\n",
    "        for m in cf.moves:\n",
    "            if (dice in m.dice_req) and (cp.en >= m.en_cost) and (cp.en <= m.max_en):\n",
    "                cp_mod = cp.modify_en(m.en_gain - m.en_cost)\n",
    "                newloc = (self.dice_loc + m.rolls) % len(dtable)\n",
    "                atk_dmg = max(0, m.atk_val - nf.armor)\n",
    "                np_mod = np.modify_hp(max(-np.hp, -atk_dmg))\n",
    "                new_players={cp_mod.player_no:cp_mod,\n",
    "                             np_mod.player_no:np_mod}\n",
    "                new_state = GameState(whose_turn=nturn, players=new_players, dice_loc=newloc, parent_state=self)\n",
    "                self.child_states.append(new_state)\n",
    "        self.child_states_computed = True\n",
    "        return\n",
    "    \n",
    "    def __str__(self):\n",
    "        return 'Loc: ' + str(self.dice_loc) + ' (dice ' + str(self.get_dice()) + ')\\n' + \\\n",
    "        str(self.players[1]) + '\\n' + \\\n",
    "        str(self.players[2]) + '\\nPlayer ' + str(self.whose_turn) + ' turn'\n",
    "        \n",
    "    \n",
    "    def compute_value(self, iter_limit = 10):\n",
    "        if (iter_limit == 0):\n",
    "            return 0\n",
    "        if (self.value is not None):\n",
    "            return self.value\n",
    "        if (self.players[1].hp <= 0) and (self.players[2].hp > 0):\n",
    "            self.value = -1\n",
    "            return self.value\n",
    "        if (self.players[1].hp > 0) and (self.players[2].hp <= 0):\n",
    "            self.value = 1\n",
    "            return self.value\n",
    "        if (self.players[1].hp <= 0) and (self.players[2].hp <= 0):\n",
    "            self.value = 0\n",
    "            return self.value\n",
    "        self.compute_child_states()\n",
    "        assert(len(self.child_states)) > 0 # if empty, it must be a terminal state and hence would have returned already\n",
    "        child_values = []\n",
    "        for c in self.child_states:\n",
    "            child_values.append(c.compute_value(iter_limit - 1))\n",
    "        if self.whose_turn==1:\n",
    "            self.value = max(child_values)\n",
    "            return self.value\n",
    "        if self.whose_turn==2:\n",
    "            self.value = min(child_values)\n",
    "            return self.value\n",
    "    \n",
    "    def n_descendents(self):\n",
    "        if (self.child_states is None):\n",
    "            return 0\n",
    "        if len(self.child_states) == 0:\n",
    "            return 0\n",
    "        return sum([c.n_descendents() for c in self.child_states]) + 1\n",
    "    \n",
    "    def random_descendent(self):\n",
    "        if (self.child_states is None):\n",
    "            return self\n",
    "        if len(self.child_states) == 0:\n",
    "            return self\n",
    "        return choice(self.child_states).random_descendent()"
   ]
  },
  {
   "cell_type": "code",
   "execution_count": 338,
   "metadata": {},
   "outputs": [],
   "source": [
    "gs = GameState.new_game(f_scissors, f_rock, 8)"
   ]
  },
  {
   "cell_type": "code",
   "execution_count": 339,
   "metadata": {},
   "outputs": [
    {
     "data": {
      "text/plain": [
       "0"
      ]
     },
     "execution_count": 339,
     "metadata": {},
     "output_type": "execute_result"
    }
   ],
   "source": [
    "gs.compute_value(30)"
   ]
  },
  {
   "cell_type": "code",
   "execution_count": 340,
   "metadata": {},
   "outputs": [
    {
     "name": "stdout",
     "output_type": "stream",
     "text": [
      "Loc: 1 (dice 1)\n",
      "Player 1 -  Fighter: Scissors - HP: 3 - EN: 4\n",
      "Player 2 -  Fighter: Rock - HP: 4 - EN: 7\n",
      "Player 1 turn\n"
     ]
    }
   ],
   "source": [
    "print(gs.random_descendent())"
   ]
  },
  {
   "cell_type": "code",
   "execution_count": 341,
   "metadata": {},
   "outputs": [],
   "source": [
    "cs = gs.random_descendent()"
   ]
  },
  {
   "cell_type": "code",
   "execution_count": 342,
   "metadata": {},
   "outputs": [
    {
     "data": {
      "text/plain": [
       "False"
      ]
     },
     "execution_count": 342,
     "metadata": {},
     "output_type": "execute_result"
    }
   ],
   "source": [
    "cs.child_states_computed"
   ]
  },
  {
   "cell_type": "code",
   "execution_count": 343,
   "metadata": {},
   "outputs": [
    {
     "data": {
      "text/plain": [
       "-1"
      ]
     },
     "execution_count": 343,
     "metadata": {},
     "output_type": "execute_result"
    }
   ],
   "source": [
    "cs.compute_value(5)"
   ]
  },
  {
   "cell_type": "code",
   "execution_count": 344,
   "metadata": {},
   "outputs": [
    {
     "name": "stdout",
     "output_type": "stream",
     "text": [
      "Loc: 7 (dice 0)\n",
      "Player 1 -  Fighter: Scissors - HP: 1 - EN: 10\n",
      "Player 2 -  Fighter: Rock - HP: 6 - EN: 5\n",
      "Player 2 turn\n"
     ]
    }
   ],
   "source": [
    "print(cs.random_descendent())"
   ]
  },
  {
   "cell_type": "code",
   "execution_count": null,
   "metadata": {},
   "outputs": [],
   "source": []
  }
 ],
 "metadata": {
  "kernelspec": {
   "display_name": "Python 3",
   "language": "python",
   "name": "python3"
  },
  "language_info": {
   "codemirror_mode": {
    "name": "ipython",
    "version": 3
   },
   "file_extension": ".py",
   "mimetype": "text/x-python",
   "name": "python",
   "nbconvert_exporter": "python",
   "pygments_lexer": "ipython3",
   "version": "3.7.2"
  }
 },
 "nbformat": 4,
 "nbformat_minor": 2
}
